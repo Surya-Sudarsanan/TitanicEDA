{
 "cells": [
  {
   "cell_type": "code",
   "execution_count": null,
   "id": "e684318f-6514-4b05-a112-88dfa23cc2e9",
   "metadata": {},
   "outputs": [],
   "source": [
    "import pandas as pd"
   ]
  },
  {
   "cell_type": "code",
   "execution_count": null,
   "id": "63532f70-f994-47ed-845e-fb74ee902a20",
   "metadata": {},
   "outputs": [],
   "source": [
    "import matplotlib.pyplot as plt"
   ]
  },
  {
   "cell_type": "code",
   "execution_count": null,
   "id": "089e02a6-bb14-4630-9558-1a72470393e5",
   "metadata": {},
   "outputs": [],
   "source": [
    "import seaborn as sns"
   ]
  },
  {
   "cell_type": "code",
   "execution_count": null,
   "id": "91aa94b6-91f2-4b77-b4eb-e3f45b337358",
   "metadata": {},
   "outputs": [],
   "source": [
    "data = pd.read_csv(\"titanic_dataset.csv\")"
   ]
  },
  {
   "cell_type": "code",
   "execution_count": null,
   "id": "e750092f-1d48-4549-bdb3-4e0adc7be448",
   "metadata": {},
   "outputs": [],
   "source": [
    "data.head()"
   ]
  },
  {
   "cell_type": "code",
   "execution_count": null,
   "id": "65f21a8b-0b95-4249-a36d-e4fd276af376",
   "metadata": {},
   "outputs": [],
   "source": [
    "data.info()"
   ]
  },
  {
   "cell_type": "code",
   "execution_count": null,
   "id": "3de52f5f-149a-4d25-8521-a0eb644c1c2a",
   "metadata": {},
   "outputs": [],
   "source": [
    "# some missing values in age, cabin and embarked columns."
   ]
  },
  {
   "cell_type": "code",
   "execution_count": null,
   "id": "2d9a2f21-2831-40d8-b1cc-192f204e4516",
   "metadata": {},
   "outputs": [],
   "source": [
    "# target - Survived"
   ]
  },
  {
   "cell_type": "code",
   "execution_count": null,
   "id": "68d5e4fd-e997-4ecb-9d6a-c4eea085c046",
   "metadata": {},
   "outputs": [],
   "source": [
    "# pclass, name, sex, ticket, cabin, embarked - categorical features\n",
    "# passengerID, age, fare - Numerical features\n",
    "# name, ticket and cabin are nominal scale, so we can drop these columns.\n",
    "# in numerical columns passengerid is also not necessary."
   ]
  },
  {
   "cell_type": "code",
   "execution_count": null,
   "id": "78cc8278-5f2d-4612-8cc1-fc8eb9b447bc",
   "metadata": {},
   "outputs": [],
   "source": [
    "data.describe()"
   ]
  },
  {
   "cell_type": "code",
   "execution_count": null,
   "id": "3307f0e5-e042-4649-a5b3-fec81a32cdac",
   "metadata": {},
   "outputs": [],
   "source": [
    "data.drop(columns=['PassengerId', 'Name','Ticket','Cabin'], inplace=True)"
   ]
  },
  {
   "cell_type": "code",
   "execution_count": null,
   "id": "a0f8ca72-74a1-425d-ac76-e78ed3b1a3fb",
   "metadata": {},
   "outputs": [],
   "source": [
    "data.head()"
   ]
  },
  {
   "cell_type": "code",
   "execution_count": null,
   "id": "aa3b6395-9387-4077-8573-5ba67c2bfc3f",
   "metadata": {},
   "outputs": [],
   "source": [
    "data['Survived'].value_counts()"
   ]
  },
  {
   "cell_type": "code",
   "execution_count": null,
   "id": "8ba9c8a3-e151-4c97-983c-3da3be41cfa5",
   "metadata": {},
   "outputs": [],
   "source": [
    "sns.countplot(data=data, x='Survived', palette='Blues')\n",
    "plt.title('Passenger Survival Count')\n",
    "plt.xlabel('Survived (0 = No, 1 = Yes)')\n",
    "plt.ylabel('Number of Passengers')\n",
    "plt.grid(axis='y')\n",
    "plt.show()"
   ]
  },
  {
   "cell_type": "code",
   "execution_count": null,
   "id": "170e331d-9f9a-48be-aa7f-57da85d0e202",
   "metadata": {},
   "outputs": [],
   "source": [
    "# data is balanced"
   ]
  },
  {
   "cell_type": "code",
   "execution_count": null,
   "id": "18391f3b-5fb3-463b-b797-1684da17012e",
   "metadata": {},
   "outputs": [],
   "source": [
    "data['Pclass'].value_counts()"
   ]
  },
  {
   "cell_type": "code",
   "execution_count": null,
   "id": "9f38c09b-fb9b-411a-b5c7-07b67a0bc82d",
   "metadata": {},
   "outputs": [],
   "source": [
    "data['Sex'].value_counts()"
   ]
  },
  {
   "cell_type": "code",
   "execution_count": null,
   "id": "070eb266-2261-4102-9dd4-4b505bc06f80",
   "metadata": {},
   "outputs": [],
   "source": [
    "df['Survived'] = df['Survived'].map({0: 'No', 1: 'Yes'})\n",
    "\n",
    "sns.countplot(data=data, x='Sex', hue='Survived', palette='Set2')\n",
    "plt.title('Survival Count by Gender')\n",
    "plt.xlabel('Gender')\n",
    "plt.ylabel('Number of Passengers')\n",
    "plt.legend(title='Survived')\n",
    "plt.grid(axis='y')\n",
    "plt.tight_layout()\n",
    "plt.show()\n"
   ]
  },
  {
   "cell_type": "code",
   "execution_count": null,
   "id": "89347592-d9be-48b7-976e-269758199c2b",
   "metadata": {},
   "outputs": [],
   "source": [
    "data['Embarked'].value_counts()"
   ]
  },
  {
   "cell_type": "markdown",
   "id": "f2be7126-ca43-4372-a4ca-84ddc5517fdb",
   "metadata": {},
   "source": [
    "##### Handling Missing Values"
   ]
  },
  {
   "cell_type": "code",
   "execution_count": null,
   "id": "4b621a9f-915e-4c59-ab35-6ca61c86e792",
   "metadata": {},
   "outputs": [],
   "source": [
    "data1 = data.copy()"
   ]
  },
  {
   "cell_type": "code",
   "execution_count": null,
   "id": "0f099314-fe62-4307-a231-91beae005eb1",
   "metadata": {},
   "outputs": [],
   "source": [
    "data1.head()"
   ]
  },
  {
   "cell_type": "code",
   "execution_count": null,
   "id": "d70f0c87-4eb5-4f7e-bd44-9b1200725487",
   "metadata": {},
   "outputs": [],
   "source": [
    "data1['Age'].fillna(data1['Age'].median(),inplace=True)"
   ]
  },
  {
   "cell_type": "code",
   "execution_count": null,
   "id": "da01ba56-e105-4ded-8e02-169b31f646d9",
   "metadata": {},
   "outputs": [],
   "source": [
    "data1['Embarked'].fillna(data1['Embarked'].mode(),inplace=True)"
   ]
  },
  {
   "cell_type": "code",
   "execution_count": null,
   "id": "c392b117-9891-4159-8320-0de1d8b423da",
   "metadata": {},
   "outputs": [],
   "source": [
    "data1.info()"
   ]
  },
  {
   "cell_type": "code",
   "execution_count": null,
   "id": "cd093c43-0101-4649-b83b-436e9de77308",
   "metadata": {},
   "outputs": [],
   "source": [
    "import matplotlib.pyplot as plt\n",
    "\n",
    "plt.hist(data1['Age'].dropna(), bins=20, color='skyblue', edgecolor='black')\n",
    "plt.title('Distribution of Age')\n",
    "plt.xlabel('Age')\n",
    "plt.ylabel('Frequency')\n",
    "plt.grid(True)\n",
    "plt.show()\n"
   ]
  },
  {
   "cell_type": "code",
   "execution_count": null,
   "id": "e5b2396e-ca9d-43c4-8829-982012a5d428",
   "metadata": {},
   "outputs": [],
   "source": [
    "import seaborn as sns\n",
    "import matplotlib.pyplot as plt\n",
    "\n",
    "sns.kdeplot(data=data1, x='Age', fill=True, color='green')\n",
    "plt.title('Density Plot of Age')\n",
    "plt.xlabel('Age')\n",
    "plt.ylabel('Density')\n",
    "plt.grid(True)\n",
    "plt.show()\n"
   ]
  },
  {
   "cell_type": "code",
   "execution_count": null,
   "id": "bd07fb26-cb1a-4eea-852d-9ddfa53e5f4e",
   "metadata": {},
   "outputs": [],
   "source": [
    "# age is skewed in right side"
   ]
  },
  {
   "cell_type": "code",
   "execution_count": null,
   "id": "5f5c77a5-fa87-400f-a494-b989ff03f407",
   "metadata": {},
   "outputs": [],
   "source": [
    "import matplotlib.pyplot as plt\n",
    "\n",
    "plt.hist(data1['Fare'].dropna(), bins=20, color='red', edgecolor='black')\n",
    "plt.title('Distribution of Fare')\n",
    "plt.xlabel('Fare')\n",
    "plt.ylabel('Frequency')\n",
    "plt.grid(True)\n",
    "plt.show()\n"
   ]
  },
  {
   "cell_type": "code",
   "execution_count": null,
   "id": "797b3dd2-2d1e-4671-9142-bd714538b262",
   "metadata": {},
   "outputs": [],
   "source": [
    "import seaborn as sns\n",
    "import matplotlib.pyplot as plt\n",
    "\n",
    "sns.kdeplot(data=data1, x='Fare', fill=True, color='green')\n",
    "plt.title('Density Plot of Fare')\n",
    "plt.xlabel('Fare')\n",
    "plt.ylabel('Density')\n",
    "plt.grid(True)\n",
    "plt.show()\n"
   ]
  },
  {
   "cell_type": "code",
   "execution_count": null,
   "id": "f741e0e1-d659-4b37-b1b4-1e2c6e7b9dcd",
   "metadata": {},
   "outputs": [],
   "source": [
    "# this plot showing fare has lots of statistical outliers."
   ]
  },
  {
   "cell_type": "code",
   "execution_count": null,
   "id": "2b7760e1-d256-481f-b4e1-3565a87eadbd",
   "metadata": {},
   "outputs": [],
   "source": [
    "plt.figure(figsize=(10, 5))\n",
    "\n",
    "# Age vs Survived\n",
    "sns.boxplot(data=data1, x='Survived', y='Age', palette='pastel')\n",
    "plt.title('Age Distribution by Survival')\n",
    "plt.xlabel('Survived (0 = No, 1 = Yes)')\n",
    "plt.ylabel('Age')\n",
    "plt.grid(True)\n",
    "plt.show()\n"
   ]
  },
  {
   "cell_type": "code",
   "execution_count": null,
   "id": "be8d09f3-42be-4ef0-95f6-8c439efe834f",
   "metadata": {},
   "outputs": [],
   "source": [
    "plt.figure(figsize=(10, 5))\n",
    "\n",
    "# Fare vs Survived\n",
    "sns.boxplot(data=data1, x='Survived', y='Fare', palette='Set3')\n",
    "plt.title('Fare Distribution by Survival')\n",
    "plt.xlabel('Survived (0 = No, 1 = Yes)')\n",
    "plt.ylabel('Fare')\n",
    "plt.grid(True)\n",
    "plt.show()\n"
   ]
  },
  {
   "cell_type": "code",
   "execution_count": null,
   "id": "a120e446-cfb8-4dff-9b75-2000ab9e9031",
   "metadata": {},
   "outputs": [],
   "source": [
    "plt.figure(figsize=(8, 6))\n",
    "sns.scatterplot(data=data1, x='Age', y='Fare', hue='Survived')\n",
    "plt.title(\"Age vs Fare by Survival\")\n",
    "plt.show()"
   ]
  },
  {
   "cell_type": "code",
   "execution_count": null,
   "id": "e5d4a70b-c273-4795-9282-bd1a3344d515",
   "metadata": {},
   "outputs": [],
   "source": [
    "plt.figure(figsize=(10, 6))\n",
    "corr = data1.corr(numeric_only=True)\n",
    "sns.heatmap(corr, annot=True, cmap='coolwarm', fmt=\".2f\")\n",
    "plt.title(\"Correlation Heatmap\")\n",
    "plt.show()"
   ]
  },
  {
   "cell_type": "code",
   "execution_count": null,
   "id": "08524cd0-f435-4cd4-9d3b-ddc573aebc01",
   "metadata": {},
   "outputs": [],
   "source": [
    "# positive correlation - survives and fare\n",
    "# negative correlation - survived and pclass"
   ]
  },
  {
   "cell_type": "code",
   "execution_count": null,
   "id": "cb0cd967-1f97-4e75-8518-1902306c21ab",
   "metadata": {},
   "outputs": [],
   "source": [
    "'''\n",
    "Summary of Findings:\n",
    "- Survival rate is less. Most passengers did not survive.\n",
    "- Females had a higher chance of survival than males.\n",
    "- Passengers in 1st class had a higher survival rate.\n",
    "- Younger passengers and those who paid higher fares had better survival chances.\n",
    "- Strong negative correlation between Pclass and Survived.\n",
    "- Fare has a slight positive correlation with Survived.\n",
    "'''"
   ]
  },
  {
   "cell_type": "code",
   "execution_count": null,
   "id": "239a754a-205a-41f6-bbe1-99b5c75ac286",
   "metadata": {},
   "outputs": [],
   "source": []
  }
 ],
 "metadata": {
  "kernelspec": {
   "display_name": "Python 3 (ipykernel)",
   "language": "python",
   "name": "python3"
  },
  "language_info": {
   "codemirror_mode": {
    "name": "ipython",
    "version": 3
   },
   "file_extension": ".py",
   "mimetype": "text/x-python",
   "name": "python",
   "nbconvert_exporter": "python",
   "pygments_lexer": "ipython3",
   "version": "3.11.7"
  }
 },
 "nbformat": 4,
 "nbformat_minor": 5
}
